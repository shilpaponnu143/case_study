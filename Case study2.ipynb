{
 "cells": [
  {
   "cell_type": "markdown",
   "id": "22aaedfa",
   "metadata": {},
   "source": [
    "# Importing dataset"
   ]
  },
  {
   "cell_type": "code",
   "execution_count": 1,
   "id": "5c6cd34d",
   "metadata": {},
   "outputs": [],
   "source": [
    "import pandas as pd"
   ]
  },
  {
   "cell_type": "code",
   "execution_count": 2,
   "id": "d28b6500",
   "metadata": {},
   "outputs": [],
   "source": [
    "data=pd.read_csv(\"Standard deviation.csv\")"
   ]
  },
  {
   "cell_type": "code",
   "execution_count": 3,
   "id": "1e46f2ce",
   "metadata": {},
   "outputs": [
    {
     "data": {
      "text/html": [
       "<div>\n",
       "<style scoped>\n",
       "    .dataframe tbody tr th:only-of-type {\n",
       "        vertical-align: middle;\n",
       "    }\n",
       "\n",
       "    .dataframe tbody tr th {\n",
       "        vertical-align: top;\n",
       "    }\n",
       "\n",
       "    .dataframe thead th {\n",
       "        text-align: right;\n",
       "    }\n",
       "</style>\n",
       "<table border=\"1\" class=\"dataframe\">\n",
       "  <thead>\n",
       "    <tr style=\"text-align: right;\">\n",
       "      <th></th>\n",
       "      <th>gender</th>\n",
       "      <th>race/ethnicity</th>\n",
       "      <th>parental level of education</th>\n",
       "      <th>lunch</th>\n",
       "      <th>test preparation course</th>\n",
       "      <th>math score</th>\n",
       "      <th>reading score</th>\n",
       "      <th>writing score</th>\n",
       "    </tr>\n",
       "  </thead>\n",
       "  <tbody>\n",
       "    <tr>\n",
       "      <th>0</th>\n",
       "      <td>female</td>\n",
       "      <td>group C</td>\n",
       "      <td>some high school</td>\n",
       "      <td>free/reduced</td>\n",
       "      <td>none</td>\n",
       "      <td>0</td>\n",
       "      <td>17</td>\n",
       "      <td>10</td>\n",
       "    </tr>\n",
       "    <tr>\n",
       "      <th>1</th>\n",
       "      <td>female</td>\n",
       "      <td>group B</td>\n",
       "      <td>high school</td>\n",
       "      <td>free/reduced</td>\n",
       "      <td>none</td>\n",
       "      <td>8</td>\n",
       "      <td>24</td>\n",
       "      <td>23</td>\n",
       "    </tr>\n",
       "    <tr>\n",
       "      <th>2</th>\n",
       "      <td>female</td>\n",
       "      <td>group B</td>\n",
       "      <td>some high school</td>\n",
       "      <td>free/reduced</td>\n",
       "      <td>none</td>\n",
       "      <td>18</td>\n",
       "      <td>32</td>\n",
       "      <td>28</td>\n",
       "    </tr>\n",
       "    <tr>\n",
       "      <th>3</th>\n",
       "      <td>female</td>\n",
       "      <td>group B</td>\n",
       "      <td>some college</td>\n",
       "      <td>standard</td>\n",
       "      <td>none</td>\n",
       "      <td>11</td>\n",
       "      <td>38</td>\n",
       "      <td>32</td>\n",
       "    </tr>\n",
       "    <tr>\n",
       "      <th>4</th>\n",
       "      <td>female</td>\n",
       "      <td>group C</td>\n",
       "      <td>some college</td>\n",
       "      <td>free/reduced</td>\n",
       "      <td>none</td>\n",
       "      <td>22</td>\n",
       "      <td>39</td>\n",
       "      <td>33</td>\n",
       "    </tr>\n",
       "    <tr>\n",
       "      <th>...</th>\n",
       "      <td>...</td>\n",
       "      <td>...</td>\n",
       "      <td>...</td>\n",
       "      <td>...</td>\n",
       "      <td>...</td>\n",
       "      <td>...</td>\n",
       "      <td>...</td>\n",
       "      <td>...</td>\n",
       "    </tr>\n",
       "    <tr>\n",
       "      <th>995</th>\n",
       "      <td>male</td>\n",
       "      <td>group E</td>\n",
       "      <td>some college</td>\n",
       "      <td>standard</td>\n",
       "      <td>completed</td>\n",
       "      <td>99</td>\n",
       "      <td>87</td>\n",
       "      <td>81</td>\n",
       "    </tr>\n",
       "    <tr>\n",
       "      <th>996</th>\n",
       "      <td>male</td>\n",
       "      <td>group A</td>\n",
       "      <td>some college</td>\n",
       "      <td>standard</td>\n",
       "      <td>completed</td>\n",
       "      <td>100</td>\n",
       "      <td>96</td>\n",
       "      <td>86</td>\n",
       "    </tr>\n",
       "    <tr>\n",
       "      <th>997</th>\n",
       "      <td>male</td>\n",
       "      <td>group D</td>\n",
       "      <td>some college</td>\n",
       "      <td>standard</td>\n",
       "      <td>completed</td>\n",
       "      <td>100</td>\n",
       "      <td>97</td>\n",
       "      <td>99</td>\n",
       "    </tr>\n",
       "    <tr>\n",
       "      <th>998</th>\n",
       "      <td>male</td>\n",
       "      <td>group E</td>\n",
       "      <td>associate's degree</td>\n",
       "      <td>free/reduced</td>\n",
       "      <td>completed</td>\n",
       "      <td>100</td>\n",
       "      <td>100</td>\n",
       "      <td>93</td>\n",
       "    </tr>\n",
       "    <tr>\n",
       "      <th>999</th>\n",
       "      <td>male</td>\n",
       "      <td>group E</td>\n",
       "      <td>bachelor's degree</td>\n",
       "      <td>standard</td>\n",
       "      <td>completed</td>\n",
       "      <td>100</td>\n",
       "      <td>100</td>\n",
       "      <td>100</td>\n",
       "    </tr>\n",
       "  </tbody>\n",
       "</table>\n",
       "<p>1000 rows × 8 columns</p>\n",
       "</div>"
      ],
      "text/plain": [
       "     gender race/ethnicity parental level of education         lunch  \\\n",
       "0    female        group C            some high school  free/reduced   \n",
       "1    female        group B                 high school  free/reduced   \n",
       "2    female        group B            some high school  free/reduced   \n",
       "3    female        group B                some college      standard   \n",
       "4    female        group C                some college  free/reduced   \n",
       "..      ...            ...                         ...           ...   \n",
       "995    male        group E                some college      standard   \n",
       "996    male        group A                some college      standard   \n",
       "997    male        group D                some college      standard   \n",
       "998    male        group E          associate's degree  free/reduced   \n",
       "999    male        group E           bachelor's degree      standard   \n",
       "\n",
       "    test preparation course  math score  reading score  writing score  \n",
       "0                      none           0             17             10  \n",
       "1                      none           8             24             23  \n",
       "2                      none          18             32             28  \n",
       "3                      none          11             38             32  \n",
       "4                      none          22             39             33  \n",
       "..                      ...         ...            ...            ...  \n",
       "995               completed          99             87             81  \n",
       "996               completed         100             96             86  \n",
       "997               completed         100             97             99  \n",
       "998               completed         100            100             93  \n",
       "999               completed         100            100            100  \n",
       "\n",
       "[1000 rows x 8 columns]"
      ]
     },
     "execution_count": 3,
     "metadata": {},
     "output_type": "execute_result"
    }
   ],
   "source": [
    "data"
   ]
  },
  {
   "cell_type": "markdown",
   "id": "1ce78df8",
   "metadata": {},
   "source": [
    "# 1. Find out how many males and females participated in the test.\n"
   ]
  },
  {
   "cell_type": "code",
   "execution_count": 6,
   "id": "1e7d7713",
   "metadata": {},
   "outputs": [],
   "source": [
    "M=data['gender']=='male'"
   ]
  },
  {
   "cell_type": "code",
   "execution_count": 12,
   "id": "3b22ef45",
   "metadata": {},
   "outputs": [
    {
     "name": "stdout",
     "output_type": "stream",
     "text": [
      "No of males participated in the test is , 482\n"
     ]
    }
   ],
   "source": [
    "print(\"No of males participated in the test is ,\",M.sum())"
   ]
  },
  {
   "cell_type": "code",
   "execution_count": 13,
   "id": "2bc87c87",
   "metadata": {},
   "outputs": [
    {
     "name": "stdout",
     "output_type": "stream",
     "text": [
      "No of females participated in the test is , 518\n"
     ]
    }
   ],
   "source": [
    "F=data['gender']=='female'\n",
    "print(\"No of females participated in the test is ,\",F.sum())"
   ]
  },
  {
   "cell_type": "code",
   "execution_count": 62,
   "id": "a4865d2b",
   "metadata": {},
   "outputs": [
    {
     "data": {
      "image/png": "[encoded data removed]",
      "text/plain": [
       "<Figure size 432x288 with 1 Axes>"
      ]
     },
     "metadata": {
      "needs_background": "light"
     },
     "output_type": "display_data"
    }
   ],
   "source": [
    "import seaborn as sns\n",
    "sns.countplot(x=data['gender'], data=data)\n",
    "plt.xlabel(\"gender\",fontsize=15)\n",
    "plt.ylabel(\"Frequency\",fontsize=15)\n",
    "plt.title(\"Distribution of gender\",fontsize=15)\n",
    "plt.grid()"
   ]
  },
  {
   "cell_type": "markdown",
   "id": "366bf791",
   "metadata": {},
   "source": [
    "# 2. What do you think about the students' parental level of education?"
   ]
  },
  {
   "cell_type": "code",
   "execution_count": 64,
   "id": "4b493e7b",
   "metadata": {},
   "outputs": [
    {
     "data": {
      "image/png": "[encoded data removed]",
      "text/plain": [
       "<Figure size 432x288 with 1 Axes>"
      ]
     },
     "metadata": {
      "needs_background": "light"
     },
     "output_type": "display_data"
    }
   ],
   "source": [
    "\n",
    "sns.countplot(x=data['parental level of education'], data=data)\n",
    "plt.xlabel(\"parental level of education\",fontsize=15)\n",
    "plt.ylabel(\"Frequency\",fontsize=15)\n",
    "plt.title(\"Distribution of parental level of education\",fontsize=15)\n",
    "plt.xticks(rotation=90)\n",
    "plt.grid()"
   ]
  },
  {
   "cell_type": "code",
   "execution_count": 19,
   "id": "261649d7",
   "metadata": {},
   "outputs": [],
   "source": [
    "#From the bar graph it is clear that most of the parents have completed some college degree.\n"
   ]
  },
  {
   "cell_type": "markdown",
   "id": "f16b699f",
   "metadata": {},
   "source": [
    "# 3. Who scores the most on average for math, reading and writing based on\n",
    "● Gender\n",
    "● Test preparation course"
   ]
  },
  {
   "cell_type": "code",
   "execution_count": 34,
   "id": "b619432d",
   "metadata": {},
   "outputs": [],
   "source": [
    "#BASED ON GENDER"
   ]
  },
  {
   "cell_type": "code",
   "execution_count": 20,
   "id": "f9d183f5",
   "metadata": {},
   "outputs": [],
   "source": [
    "import numpy as np"
   ]
  },
  {
   "cell_type": "code",
   "execution_count": 59,
   "id": "7d2d3894",
   "metadata": {},
   "outputs": [
    {
     "data": {
      "text/html": [
       "<div>\n",
       "<style scoped>\n",
       "    .dataframe tbody tr th:only-of-type {\n",
       "        vertical-align: middle;\n",
       "    }\n",
       "\n",
       "    .dataframe tbody tr th {\n",
       "        vertical-align: top;\n",
       "    }\n",
       "\n",
       "    .dataframe thead th {\n",
       "        text-align: right;\n",
       "    }\n",
       "</style>\n",
       "<table border=\"1\" class=\"dataframe\">\n",
       "  <thead>\n",
       "    <tr style=\"text-align: right;\">\n",
       "      <th></th>\n",
       "      <th>math score</th>\n",
       "      <th>writing score</th>\n",
       "      <th>reading score</th>\n",
       "    </tr>\n",
       "    <tr>\n",
       "      <th>gender</th>\n",
       "      <th></th>\n",
       "      <th></th>\n",
       "      <th></th>\n",
       "    </tr>\n",
       "  </thead>\n",
       "  <tbody>\n",
       "    <tr>\n",
       "      <th>female</th>\n",
       "      <td>63.376448</td>\n",
       "      <td>72.467181</td>\n",
       "      <td>72.590734</td>\n",
       "    </tr>\n",
       "    <tr>\n",
       "      <th>male</th>\n",
       "      <td>68.821577</td>\n",
       "      <td>63.446058</td>\n",
       "      <td>65.545643</td>\n",
       "    </tr>\n",
       "  </tbody>\n",
       "</table>\n",
       "</div>"
      ],
      "text/plain": [
       "        math score  writing score  reading score\n",
       "gender                                          \n",
       "female   63.376448      72.467181      72.590734\n",
       "male     68.821577      63.446058      65.545643"
      ]
     },
     "execution_count": 59,
     "metadata": {},
     "output_type": "execute_result"
    }
   ],
   "source": [
    "data[['gender','math score','writing score','reading score']].groupby(['gender']).agg('mean')"
   ]
  },
  {
   "cell_type": "code",
   "execution_count": 89,
   "id": "1d1c3151",
   "metadata": {},
   "outputs": [
    {
     "data": {
      "text/plain": [
       "<AxesSubplot:xlabel='gender', ylabel='reading score'>"
      ]
     },
     "execution_count": 89,
     "metadata": {},
     "output_type": "execute_result"
    },
    {
     "data": {
      "image/png": "[encoded data removed]",
      "text/plain": [
       "<Figure size 1080x432 with 3 Axes>"
      ]
     },
     "metadata": {
      "needs_background": "light"
     },
     "output_type": "display_data"
    }
   ],
   "source": [
    "plt.figure(figsize=(15,6))\n",
    "plt.subplot(1,3,1)\n",
    "sns.boxplot(x='gender',y='math score',data=data)\n",
    "plt.subplot(1,3,2)\n",
    "sns.boxplot(x='gender',y='writing score',data=data)\n",
    "plt.subplot(1,3,3)\n",
    "sns.boxplot(x='gender',y='reading score',data=data)"
   ]
  },
  {
   "cell_type": "code",
   "execution_count": null,
   "id": "b3eba25b",
   "metadata": {},
   "outputs": [],
   "source": [
    "#In female , reading score shows maximum average and in male , math score shows max average"
   ]
  },
  {
   "cell_type": "code",
   "execution_count": 36,
   "id": "6e6bda43",
   "metadata": {},
   "outputs": [],
   "source": [
    "#BASED ON TEST PREPARATION COURSE"
   ]
  },
  {
   "cell_type": "code",
   "execution_count": 60,
   "id": "5d07049d",
   "metadata": {},
   "outputs": [
    {
     "data": {
      "text/html": [
       "<div>\n",
       "<style scoped>\n",
       "    .dataframe tbody tr th:only-of-type {\n",
       "        vertical-align: middle;\n",
       "    }\n",
       "\n",
       "    .dataframe tbody tr th {\n",
       "        vertical-align: top;\n",
       "    }\n",
       "\n",
       "    .dataframe thead th {\n",
       "        text-align: right;\n",
       "    }\n",
       "</style>\n",
       "<table border=\"1\" class=\"dataframe\">\n",
       "  <thead>\n",
       "    <tr style=\"text-align: right;\">\n",
       "      <th></th>\n",
       "      <th>math score</th>\n",
       "      <th>writing score</th>\n",
       "      <th>reading score</th>\n",
       "    </tr>\n",
       "    <tr>\n",
       "      <th>test preparation course</th>\n",
       "      <th></th>\n",
       "      <th></th>\n",
       "      <th></th>\n",
       "    </tr>\n",
       "  </thead>\n",
       "  <tbody>\n",
       "    <tr>\n",
       "      <th>completed</th>\n",
       "      <td>69.96648</td>\n",
       "      <td>74.684358</td>\n",
       "      <td>74.175978</td>\n",
       "    </tr>\n",
       "    <tr>\n",
       "      <th>none</th>\n",
       "      <td>63.78972</td>\n",
       "      <td>64.457944</td>\n",
       "      <td>66.417445</td>\n",
       "    </tr>\n",
       "  </tbody>\n",
       "</table>\n",
       "</div>"
      ],
      "text/plain": [
       "                         math score  writing score  reading score\n",
       "test preparation course                                          \n",
       "completed                  69.96648      74.684358      74.175978\n",
       "none                       63.78972      64.457944      66.417445"
      ]
     },
     "execution_count": 60,
     "metadata": {},
     "output_type": "execute_result"
    }
   ],
   "source": [
    "data[['test preparation course',\n",
    "      'math score',\n",
    "      'writing score',\n",
    "      'reading score']].groupby(['test preparation course']).agg('mean')"
   ]
  },
  {
   "cell_type": "code",
   "execution_count": 88,
   "id": "2a72e669",
   "metadata": {},
   "outputs": [
    {
     "data": {
      "text/plain": [
       "<AxesSubplot:xlabel='test preparation course', ylabel='reading score'>"
      ]
     },
     "execution_count": 88,
     "metadata": {},
     "output_type": "execute_result"
    },
    {
     "data": {
      "image/png": "[encoded data removed]",
      "text/plain": [
       "<Figure size 1080x432 with 3 Axes>"
      ]
     },
     "metadata": {
      "needs_background": "light"
     },
     "output_type": "display_data"
    }
   ],
   "source": [
    "plt.figure(figsize=(15,6))\n",
    "plt.subplot(1,3,1)\n",
    "sns.boxplot(x='test preparation course',y='math score',data=data)\n",
    "plt.subplot(1,3,2)\n",
    "sns.boxplot(x='test preparation course',y='writing score',data=data)\n",
    "plt.subplot(1,3,3)\n",
    "sns.boxplot(x='test preparation course',y='reading score',data=data)"
   ]
  },
  {
   "cell_type": "code",
   "execution_count": null,
   "id": "ba609244",
   "metadata": {},
   "outputs": [],
   "source": [
    "#In test completed,writing score shows maximum mean and in test not completed,reading score shows max mean."
   ]
  },
  {
   "cell_type": "markdown",
   "id": "d8766c1d",
   "metadata": {},
   "source": [
    "# 4. What do you think about the scoring variation for math,reading and writing based on\n",
    "● Gender\n",
    "● Test preparation course"
   ]
  },
  {
   "cell_type": "code",
   "execution_count": 95,
   "id": "23e3cc37",
   "metadata": {},
   "outputs": [
    {
     "data": {
      "text/html": [
       "<div>\n",
       "<style scoped>\n",
       "    .dataframe tbody tr th:only-of-type {\n",
       "        vertical-align: middle;\n",
       "    }\n",
       "\n",
       "    .dataframe tbody tr th {\n",
       "        vertical-align: top;\n",
       "    }\n",
       "\n",
       "    .dataframe thead th {\n",
       "        text-align: right;\n",
       "    }\n",
       "</style>\n",
       "<table border=\"1\" class=\"dataframe\">\n",
       "  <thead>\n",
       "    <tr style=\"text-align: right;\">\n",
       "      <th></th>\n",
       "      <th>math score</th>\n",
       "      <th>writing score</th>\n",
       "      <th>reading score</th>\n",
       "    </tr>\n",
       "    <tr>\n",
       "      <th>gender</th>\n",
       "      <th></th>\n",
       "      <th></th>\n",
       "      <th></th>\n",
       "    </tr>\n",
       "  </thead>\n",
       "  <tbody>\n",
       "    <tr>\n",
       "      <th>female</th>\n",
       "      <td>16.029928</td>\n",
       "      <td>14.844842</td>\n",
       "      <td>14.411018</td>\n",
       "    </tr>\n",
       "    <tr>\n",
       "      <th>male</th>\n",
       "      <td>14.556411</td>\n",
       "      <td>14.227225</td>\n",
       "      <td>14.149594</td>\n",
       "    </tr>\n",
       "  </tbody>\n",
       "</table>\n",
       "</div>"
      ],
      "text/plain": [
       "        math score  writing score  reading score\n",
       "gender                                          \n",
       "female   16.029928      14.844842      14.411018\n",
       "male     14.556411      14.227225      14.149594"
      ]
     },
     "execution_count": 95,
     "metadata": {},
     "output_type": "execute_result"
    }
   ],
   "source": [
    "data[['gender',\n",
    "      'math score',\n",
    "      'writing score',\n",
    "      'reading score']].groupby(['gender']).agg('std')"
   ]
  },
  {
   "cell_type": "code",
   "execution_count": null,
   "id": "5cb21ab1",
   "metadata": {},
   "outputs": [],
   "source": [
    "#In female and male, math score shows maximum standard deviation."
   ]
  },
  {
   "cell_type": "code",
   "execution_count": 96,
   "id": "5dc52f65",
   "metadata": {},
   "outputs": [
    {
     "data": {
      "text/html": [
       "<div>\n",
       "<style scoped>\n",
       "    .dataframe tbody tr th:only-of-type {\n",
       "        vertical-align: middle;\n",
       "    }\n",
       "\n",
       "    .dataframe tbody tr th {\n",
       "        vertical-align: top;\n",
       "    }\n",
       "\n",
       "    .dataframe thead th {\n",
       "        text-align: right;\n",
       "    }\n",
       "</style>\n",
       "<table border=\"1\" class=\"dataframe\">\n",
       "  <thead>\n",
       "    <tr style=\"text-align: right;\">\n",
       "      <th></th>\n",
       "      <th>math score</th>\n",
       "      <th>writing score</th>\n",
       "      <th>reading score</th>\n",
       "    </tr>\n",
       "    <tr>\n",
       "      <th>test preparation course</th>\n",
       "      <th></th>\n",
       "      <th></th>\n",
       "      <th></th>\n",
       "    </tr>\n",
       "  </thead>\n",
       "  <tbody>\n",
       "    <tr>\n",
       "      <th>completed</th>\n",
       "      <td>14.521847</td>\n",
       "      <td>13.236412</td>\n",
       "      <td>13.537572</td>\n",
       "    </tr>\n",
       "    <tr>\n",
       "      <th>none</th>\n",
       "      <td>15.705689</td>\n",
       "      <td>15.041667</td>\n",
       "      <td>14.608896</td>\n",
       "    </tr>\n",
       "  </tbody>\n",
       "</table>\n",
       "</div>"
      ],
      "text/plain": [
       "                         math score  writing score  reading score\n",
       "test preparation course                                          \n",
       "completed                 14.521847      13.236412      13.537572\n",
       "none                      15.705689      15.041667      14.608896"
      ]
     },
     "execution_count": 96,
     "metadata": {},
     "output_type": "execute_result"
    }
   ],
   "source": [
    "data[['test preparation course',\n",
    "      'math score',\n",
    "      'writing score',\n",
    "      'reading score']].groupby(['test preparation course']).agg('std')"
   ]
  },
  {
   "cell_type": "code",
   "execution_count": null,
   "id": "e64e25f7",
   "metadata": {},
   "outputs": [],
   "source": [
    "#In test completed and not completed,math score shows max standard deviation."
   ]
  },
  {
   "cell_type": "markdown",
   "id": "e50d5b91",
   "metadata": {},
   "source": [
    "# 5. The management needs your help to give bonus points to the top 25% of students based on their maths score, so how will you help the management to achieve this."
   ]
  },
  {
   "cell_type": "code",
   "execution_count": 101,
   "id": "e509f6d0",
   "metadata": {},
   "outputs": [
    {
     "data": {
      "text/html": [
       "<div>\n",
       "<style scoped>\n",
       "    .dataframe tbody tr th:only-of-type {\n",
       "        vertical-align: middle;\n",
       "    }\n",
       "\n",
       "    .dataframe tbody tr th {\n",
       "        vertical-align: top;\n",
       "    }\n",
       "\n",
       "    .dataframe thead th {\n",
       "        text-align: right;\n",
       "    }\n",
       "</style>\n",
       "<table border=\"1\" class=\"dataframe\">\n",
       "  <thead>\n",
       "    <tr style=\"text-align: right;\">\n",
       "      <th></th>\n",
       "      <th>gender</th>\n",
       "      <th>race/ethnicity</th>\n",
       "      <th>parental level of education</th>\n",
       "      <th>lunch</th>\n",
       "      <th>test preparation course</th>\n",
       "      <th>math score</th>\n",
       "      <th>reading score</th>\n",
       "      <th>writing score</th>\n",
       "    </tr>\n",
       "  </thead>\n",
       "  <tbody>\n",
       "    <tr>\n",
       "      <th>515</th>\n",
       "      <td>female</td>\n",
       "      <td>group E</td>\n",
       "      <td>some college</td>\n",
       "      <td>standard</td>\n",
       "      <td>none</td>\n",
       "      <td>100</td>\n",
       "      <td>92</td>\n",
       "      <td>97</td>\n",
       "    </tr>\n",
       "    <tr>\n",
       "      <th>516</th>\n",
       "      <td>female</td>\n",
       "      <td>group E</td>\n",
       "      <td>bachelor's degree</td>\n",
       "      <td>standard</td>\n",
       "      <td>none</td>\n",
       "      <td>100</td>\n",
       "      <td>100</td>\n",
       "      <td>100</td>\n",
       "    </tr>\n",
       "    <tr>\n",
       "      <th>517</th>\n",
       "      <td>female</td>\n",
       "      <td>group E</td>\n",
       "      <td>associate's degree</td>\n",
       "      <td>standard</td>\n",
       "      <td>none</td>\n",
       "      <td>100</td>\n",
       "      <td>100</td>\n",
       "      <td>100</td>\n",
       "    </tr>\n",
       "    <tr>\n",
       "      <th>996</th>\n",
       "      <td>male</td>\n",
       "      <td>group A</td>\n",
       "      <td>some college</td>\n",
       "      <td>standard</td>\n",
       "      <td>completed</td>\n",
       "      <td>100</td>\n",
       "      <td>96</td>\n",
       "      <td>86</td>\n",
       "    </tr>\n",
       "    <tr>\n",
       "      <th>997</th>\n",
       "      <td>male</td>\n",
       "      <td>group D</td>\n",
       "      <td>some college</td>\n",
       "      <td>standard</td>\n",
       "      <td>completed</td>\n",
       "      <td>100</td>\n",
       "      <td>97</td>\n",
       "      <td>99</td>\n",
       "    </tr>\n",
       "    <tr>\n",
       "      <th>...</th>\n",
       "      <td>...</td>\n",
       "      <td>...</td>\n",
       "      <td>...</td>\n",
       "      <td>...</td>\n",
       "      <td>...</td>\n",
       "      <td>...</td>\n",
       "      <td>...</td>\n",
       "      <td>...</td>\n",
       "    </tr>\n",
       "    <tr>\n",
       "      <th>428</th>\n",
       "      <td>female</td>\n",
       "      <td>group D</td>\n",
       "      <td>some college</td>\n",
       "      <td>free/reduced</td>\n",
       "      <td>none</td>\n",
       "      <td>77</td>\n",
       "      <td>86</td>\n",
       "      <td>86</td>\n",
       "    </tr>\n",
       "    <tr>\n",
       "      <th>429</th>\n",
       "      <td>female</td>\n",
       "      <td>group E</td>\n",
       "      <td>some high school</td>\n",
       "      <td>standard</td>\n",
       "      <td>none</td>\n",
       "      <td>77</td>\n",
       "      <td>79</td>\n",
       "      <td>80</td>\n",
       "    </tr>\n",
       "    <tr>\n",
       "      <th>849</th>\n",
       "      <td>male</td>\n",
       "      <td>group A</td>\n",
       "      <td>bachelor's degree</td>\n",
       "      <td>standard</td>\n",
       "      <td>none</td>\n",
       "      <td>77</td>\n",
       "      <td>67</td>\n",
       "      <td>68</td>\n",
       "    </tr>\n",
       "    <tr>\n",
       "      <th>850</th>\n",
       "      <td>male</td>\n",
       "      <td>group C</td>\n",
       "      <td>associate's degree</td>\n",
       "      <td>free/reduced</td>\n",
       "      <td>none</td>\n",
       "      <td>77</td>\n",
       "      <td>67</td>\n",
       "      <td>64</td>\n",
       "    </tr>\n",
       "    <tr>\n",
       "      <th>851</th>\n",
       "      <td>male</td>\n",
       "      <td>group D</td>\n",
       "      <td>some college</td>\n",
       "      <td>standard</td>\n",
       "      <td>completed</td>\n",
       "      <td>77</td>\n",
       "      <td>62</td>\n",
       "      <td>62</td>\n",
       "    </tr>\n",
       "  </tbody>\n",
       "</table>\n",
       "<p>250 rows × 8 columns</p>\n",
       "</div>"
      ],
      "text/plain": [
       "     gender race/ethnicity parental level of education         lunch  \\\n",
       "515  female        group E                some college      standard   \n",
       "516  female        group E           bachelor's degree      standard   \n",
       "517  female        group E          associate's degree      standard   \n",
       "996    male        group A                some college      standard   \n",
       "997    male        group D                some college      standard   \n",
       "..      ...            ...                         ...           ...   \n",
       "428  female        group D                some college  free/reduced   \n",
       "429  female        group E            some high school      standard   \n",
       "849    male        group A           bachelor's degree      standard   \n",
       "850    male        group C          associate's degree  free/reduced   \n",
       "851    male        group D                some college      standard   \n",
       "\n",
       "    test preparation course  math score  reading score  writing score  \n",
       "515                    none         100             92             97  \n",
       "516                    none         100            100            100  \n",
       "517                    none         100            100            100  \n",
       "996               completed         100             96             86  \n",
       "997               completed         100             97             99  \n",
       "..                      ...         ...            ...            ...  \n",
       "428                    none          77             86             86  \n",
       "429                    none          77             79             80  \n",
       "849                    none          77             67             68  \n",
       "850                    none          77             67             64  \n",
       "851               completed          77             62             62  \n",
       "\n",
       "[250 rows x 8 columns]"
      ]
     },
     "execution_count": 101,
     "metadata": {},
     "output_type": "execute_result"
    }
   ],
   "source": [
    "\n",
    "data.nlargest(int((25/100)*len(data)), ['math score'])"
   ]
  },
  {
   "cell_type": "code",
   "execution_count": null,
   "id": "234b006a",
   "metadata": {},
   "outputs": [],
   "source": []
  }
 ],
 "metadata": {
  "kernelspec": {
   "display_name": "Python 3 (ipykernel)",
   "language": "python",
   "name": "python3"
  },
  "language_info": {
   "codemirror_mode": {
    "name": "ipython",
    "version": 3
   },
   "file_extension": ".py",
   "mimetype": "text/x-python",
   "name": "python",
   "nbconvert_exporter": "python",
   "pygments_lexer": "ipython3",
   "version": "3.9.7"
  }
 },
 "nbformat": 4,
 "nbformat_minor": 5
}
